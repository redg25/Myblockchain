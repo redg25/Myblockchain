{
 "cells": [
  {
   "cell_type": "code",
   "execution_count": null,
   "id": "657db2b5-5e26-44bc-8967-149c7bf350bd",
   "metadata": {},
   "outputs": [],
   "source": [
    "from client import Client, Transaction, Block\n",
    "from client import display_transaction\n",
    "from client import transactions, MBCoins"
   ]
  },
  {
   "cell_type": "code",
   "execution_count": 1,
   "id": "492310c6-c66a-4d1c-bc6f-41f5b510a96b",
   "metadata": {},
   "outputs": [
    {
     "name": "stdout",
     "output_type": "stream",
     "text": [
      "after 54 iterations found nonce: 118391980d904066b28c91942ab772beb25c7e802293f4cdb696be34cf74b2bf\n"
     ]
    }
   ],
   "source": [
    "from client import *"
   ]
  },
  {
   "cell_type": "code",
   "execution_count": 2,
   "id": "681d153c-4955-478f-a7ae-e493305d4baf",
   "metadata": {},
   "outputs": [],
   "source": [
    "Dinesh = Client()\n",
    "Ramesh = Client()\n",
    "Seema = Client()\n",
    "Vijay = Client()"
   ]
  },
  {
   "cell_type": "code",
   "execution_count": 2,
   "id": "2cabe654-8873-46a4-8398-543d49b53230",
   "metadata": {},
   "outputs": [
    {
     "data": {
      "text/plain": [
       "'5ecc588704f7e18bb7ac4cdd6b81c8aa26cc03d3eec6db47a38b384d931e1488'"
      ]
     },
     "execution_count": 2,
     "metadata": {},
     "output_type": "execute_result"
    }
   ],
   "source": [
    "mine(\"this a message\",2)"
   ]
  },
  {
   "cell_type": "code",
   "execution_count": 3,
   "id": "951a0a90-70fa-4849-89c1-b221cf10724a",
   "metadata": {},
   "outputs": [],
   "source": [
    "t0 = Transaction (\n",
    "   \"Genesis\",\n",
    "   Dinesh.identity,\n",
    "   500.0\n",
    ")"
   ]
  },
  {
   "cell_type": "code",
   "execution_count": 4,
   "id": "3a5839d3-f344-4df6-b3d2-9e9ffea1f46d",
   "metadata": {},
   "outputs": [],
   "source": [
    "block0 = Block()\n",
    "block0.previous_block_hash = None\n",
    "Nonce = None"
   ]
  },
  {
   "cell_type": "code",
   "execution_count": 5,
   "id": "2e868db7-2786-4f6a-a280-76f0f2cf7bbd",
   "metadata": {},
   "outputs": [],
   "source": [
    "block0.verified_transactions.append (t0)"
   ]
  },
  {
   "cell_type": "code",
   "execution_count": 6,
   "id": "a6dc50db-ddd4-4640-8a92-75bb1789c6f7",
   "metadata": {},
   "outputs": [],
   "source": [
    "digest = hash (block0)\n",
    "last_block_hash = digest"
   ]
  },
  {
   "cell_type": "code",
   "execution_count": 7,
   "id": "6bc86292-0429-4426-9b37-8d7cf4356fe2",
   "metadata": {},
   "outputs": [],
   "source": [
    "MBCoins.append (block0)"
   ]
  },
  {
   "cell_type": "code",
   "execution_count": 7,
   "id": "18dbefd1-e13b-4602-9410-d8346d4b0aeb",
   "metadata": {},
   "outputs": [
    {
     "name": "stdout",
     "output_type": "stream",
     "text": [
      "Number of blocks in the chain: 1\n",
      "block # 0\n",
      "sender: Genesis\n",
      "-----\n",
      "recipient: 30819f300d06092a864886f70d010101050003818d0030818902818100a0cd6423baa056ae96c7c68def11666fe347727cfa9fbbc460cf0da4a3e4934038a8cefb8ab312f7495c0c9423be6bc43896929da3690ae5e4446685189f1f86b98e812f07bdc1cccd65d00e2a09ad4bb81ab4d5ce8357a56680b65f7a23c840cf71ad7045a086f143de6f3381df0733b9530a91710bb4afc33d4c1c8ce1c41f0203010001\n",
      "-----\n",
      "value: 500.0\n",
      "-----\n",
      "time: 2021-11-29 11:28:51.242816\n",
      "-----\n",
      "--------------\n",
      "=====================================\n"
     ]
    }
   ],
   "source": [
    "dump_blockchain(MBCoins)"
   ]
  },
  {
   "cell_type": "code",
   "execution_count": 8,
   "id": "3deca869-9ac1-4327-8ae9-fa38498e151d",
   "metadata": {},
   "outputs": [],
   "source": [
    "t1 = Transaction(\n",
    "    Dinesh,\n",
    "    Ramesh.identity,\n",
    "    15.0\n",
    ")\n",
    "t1.sign_transaction()\n",
    "transactions.append(t1)\n",
    "t2 = Transaction(\n",
    "    Dinesh,\n",
    "    Seema.identity,\n",
    "    6.0\n",
    ")\n",
    "t2.sign_transaction()\n",
    "transactions.append(t2)\n",
    "t3 = Transaction(\n",
    "    Ramesh,\n",
    "    Vijay.identity,\n",
    "    2.0\n",
    ")\n",
    "t3.sign_transaction()\n",
    "transactions.append(t3)\n",
    "t4 = Transaction(\n",
    "    Seema,\n",
    "    Ramesh.identity,\n",
    "    4.0\n",
    ")\n",
    "t4.sign_transaction()\n",
    "transactions.append(t4)\n",
    "t5 = Transaction(\n",
    "    Vijay,\n",
    "    Seema.identity,\n",
    "    7.0\n",
    ")\n",
    "t5.sign_transaction()\n",
    "transactions.append(t5)\n",
    "t6 = Transaction(\n",
    "    Ramesh,\n",
    "    Seema.identity,\n",
    "    3.0\n",
    ")\n",
    "t6.sign_transaction()\n",
    "transactions.append(t6)\n",
    "t7 = Transaction(\n",
    "    Seema,\n",
    "    Dinesh.identity,\n",
    "    8.0\n",
    ")\n",
    "t7.sign_transaction()\n",
    "transactions.append(t7)\n",
    "t8 = Transaction(\n",
    "    Seema,\n",
    "    Ramesh.identity,\n",
    "    1.0\n",
    ")\n",
    "t8.sign_transaction()\n",
    "transactions.append(t8)\n",
    "t9 = Transaction(\n",
    "    Vijay,\n",
    "    Dinesh.identity,\n",
    "    5.0\n",
    ")\n",
    "t9.sign_transaction()\n",
    "transactions.append(t9)\n",
    "t10 = Transaction(\n",
    "    Vijay,\n",
    "    Ramesh.identity,\n",
    "    3.0\n",
    ")\n",
    "t10.sign_transaction()\n",
    "transactions.append(t10)\n"
   ]
  },
  {
   "cell_type": "code",
   "execution_count": null,
   "id": "ec4a7c5c-1ac7-4158-aaac-0d643cf23804",
   "metadata": {},
   "outputs": [],
   "source": [
    "for transaction in transactions:\n",
    "   display_transaction (transaction)\n",
    "   print ('--------------')"
   ]
  },
  {
   "cell_type": "code",
   "execution_count": 12,
   "id": "928b7752-5a43-43f1-87a3-1bd87d15b67e",
   "metadata": {},
   "outputs": [
    {
     "name": "stdout",
     "output_type": "stream",
     "text": [
      "after 138 iterations found nonce: 11940584bdbc8aee803a477c59f8364e499c22c15af2692a73f28abe3cd8b831\n"
     ]
    }
   ],
   "source": [
    "block = Block()\n",
    "for i in range(3):\n",
    "   temp_transaction = transactions[last_transaction_index]\n",
    "   # validate transaction\n",
    "   # if valid\n",
    "   block.verified_transactions.append (temp_transaction)\n",
    "   last_transaction_index += 1\n",
    "\n",
    "block.previous_block_hash = last_block_hash\n",
    "block.Nonce = mine (block, 2)\n",
    "digest = hash (block)\n",
    "MBCoins.append (block)\n",
    "last_block_hash = digest"
   ]
  },
  {
   "cell_type": "code",
   "execution_count": 13,
   "id": "d6faff80-6567-4e20-8874-8d8da1f10085",
   "metadata": {},
   "outputs": [
    {
     "name": "stdout",
     "output_type": "stream",
     "text": [
      "Number of blocks in the chain: 3\n",
      "block # 0\n",
      "sender: Genesis\n",
      "-----\n",
      "recipient: 30819f300d06092a864886f70d010101050003818d0030818902818100d3aeac34f7143bb39d03b87f3c4e022d4f379c414b8d81e1e4e7ac412fc2bd638a2b9f627aa8f3032b8efce20ca5770f088bbcf064678596e7568ce2030309154a5e4af58e03dfac3f7bd20b3b86a390e98d21bb5e11af55ce6e5e14248bd8057aa826783cee060634e618d92d7cfecd0aeb390630e69d05c1053677878c714d0203010001\n",
      "-----\n",
      "value: 500.0\n",
      "-----\n",
      "time: 2021-11-29 11:49:54.727440\n",
      "-----\n",
      "--------------\n",
      "=====================================\n",
      "block # 1\n",
      "sender: 30819f300d06092a864886f70d010101050003818d0030818902818100bcb1fe610af32eb01fadd2895efb00134043b8d2ad57bf5aff7df931c63dc1d4cf681ad3116810aa774325ac03ed9eec5008d6e0ec0c369cf079b44a906095d99ee3f1988cf30c832d7707ea734dfce8a1f5f80ff5d30d131715fa7476413b0d0010eeffd0f949c487c110e274750504f38b8044e41880edd5005e811f0952750203010001\n",
      "-----\n",
      "recipient: 30819f300d06092a864886f70d010101050003818d0030818902818100bf8762787234f832619e334e9c3f794c645bed809c0fd35590ca56e0cbfdf35288cdb7ac7115bda01deeb507e73a9a468dd85944bd57c5e46dd1fcb2a0c3b33a3f89e9f017d5b410a52e558ea2a99ebc873cf18ab65a0f621f5d331e58566df3fc36b1136d07feea65f35ebe3698e27d7782667ef68ab43f25178c1809bd3db50203010001\n",
      "-----\n",
      "value: 4.0\n",
      "-----\n",
      "time: 2021-11-29 11:50:07.959990\n",
      "-----\n",
      "--------------\n",
      "sender: 30819f300d06092a864886f70d010101050003818d0030818902818100d8afd3c4307018ffec5ec8830c02cfbeafa51f4b7a114b0e013d933f19f6a97aa13bef001896bf3de0c7f8c4aaae486b158132bd54192b60da07722732e7bb2527052bf191de371cecb1bf6e24acc2e4027c178aabbcebe37d3f3cfe7072172a922c07c4ee1004e83b8b6c55dc860d8f7036d997764e26231fd839b78e10f9e70203010001\n",
      "-----\n",
      "recipient: 30819f300d06092a864886f70d010101050003818d0030818902818100bcb1fe610af32eb01fadd2895efb00134043b8d2ad57bf5aff7df931c63dc1d4cf681ad3116810aa774325ac03ed9eec5008d6e0ec0c369cf079b44a906095d99ee3f1988cf30c832d7707ea734dfce8a1f5f80ff5d30d131715fa7476413b0d0010eeffd0f949c487c110e274750504f38b8044e41880edd5005e811f0952750203010001\n",
      "-----\n",
      "value: 7.0\n",
      "-----\n",
      "time: 2021-11-29 11:50:07.959990\n",
      "-----\n",
      "--------------\n",
      "sender: 30819f300d06092a864886f70d010101050003818d0030818902818100bf8762787234f832619e334e9c3f794c645bed809c0fd35590ca56e0cbfdf35288cdb7ac7115bda01deeb507e73a9a468dd85944bd57c5e46dd1fcb2a0c3b33a3f89e9f017d5b410a52e558ea2a99ebc873cf18ab65a0f621f5d331e58566df3fc36b1136d07feea65f35ebe3698e27d7782667ef68ab43f25178c1809bd3db50203010001\n",
      "-----\n",
      "recipient: 30819f300d06092a864886f70d010101050003818d0030818902818100bcb1fe610af32eb01fadd2895efb00134043b8d2ad57bf5aff7df931c63dc1d4cf681ad3116810aa774325ac03ed9eec5008d6e0ec0c369cf079b44a906095d99ee3f1988cf30c832d7707ea734dfce8a1f5f80ff5d30d131715fa7476413b0d0010eeffd0f949c487c110e274750504f38b8044e41880edd5005e811f0952750203010001\n",
      "-----\n",
      "value: 3.0\n",
      "-----\n",
      "time: 2021-11-29 11:50:07.960989\n",
      "-----\n",
      "--------------\n",
      "=====================================\n",
      "block # 2\n",
      "sender: 30819f300d06092a864886f70d010101050003818d0030818902818100bcb1fe610af32eb01fadd2895efb00134043b8d2ad57bf5aff7df931c63dc1d4cf681ad3116810aa774325ac03ed9eec5008d6e0ec0c369cf079b44a906095d99ee3f1988cf30c832d7707ea734dfce8a1f5f80ff5d30d131715fa7476413b0d0010eeffd0f949c487c110e274750504f38b8044e41880edd5005e811f0952750203010001\n",
      "-----\n",
      "recipient: 30819f300d06092a864886f70d010101050003818d0030818902818100d3aeac34f7143bb39d03b87f3c4e022d4f379c414b8d81e1e4e7ac412fc2bd638a2b9f627aa8f3032b8efce20ca5770f088bbcf064678596e7568ce2030309154a5e4af58e03dfac3f7bd20b3b86a390e98d21bb5e11af55ce6e5e14248bd8057aa826783cee060634e618d92d7cfecd0aeb390630e69d05c1053677878c714d0203010001\n",
      "-----\n",
      "value: 8.0\n",
      "-----\n",
      "time: 2021-11-29 11:50:07.960989\n",
      "-----\n",
      "--------------\n",
      "sender: 30819f300d06092a864886f70d010101050003818d0030818902818100bcb1fe610af32eb01fadd2895efb00134043b8d2ad57bf5aff7df931c63dc1d4cf681ad3116810aa774325ac03ed9eec5008d6e0ec0c369cf079b44a906095d99ee3f1988cf30c832d7707ea734dfce8a1f5f80ff5d30d131715fa7476413b0d0010eeffd0f949c487c110e274750504f38b8044e41880edd5005e811f0952750203010001\n",
      "-----\n",
      "recipient: 30819f300d06092a864886f70d010101050003818d0030818902818100bf8762787234f832619e334e9c3f794c645bed809c0fd35590ca56e0cbfdf35288cdb7ac7115bda01deeb507e73a9a468dd85944bd57c5e46dd1fcb2a0c3b33a3f89e9f017d5b410a52e558ea2a99ebc873cf18ab65a0f621f5d331e58566df3fc36b1136d07feea65f35ebe3698e27d7782667ef68ab43f25178c1809bd3db50203010001\n",
      "-----\n",
      "value: 1.0\n",
      "-----\n",
      "time: 2021-11-29 11:50:07.961986\n",
      "-----\n",
      "--------------\n",
      "sender: 30819f300d06092a864886f70d010101050003818d0030818902818100d8afd3c4307018ffec5ec8830c02cfbeafa51f4b7a114b0e013d933f19f6a97aa13bef001896bf3de0c7f8c4aaae486b158132bd54192b60da07722732e7bb2527052bf191de371cecb1bf6e24acc2e4027c178aabbcebe37d3f3cfe7072172a922c07c4ee1004e83b8b6c55dc860d8f7036d997764e26231fd839b78e10f9e70203010001\n",
      "-----\n",
      "recipient: 30819f300d06092a864886f70d010101050003818d0030818902818100d3aeac34f7143bb39d03b87f3c4e022d4f379c414b8d81e1e4e7ac412fc2bd638a2b9f627aa8f3032b8efce20ca5770f088bbcf064678596e7568ce2030309154a5e4af58e03dfac3f7bd20b3b86a390e98d21bb5e11af55ce6e5e14248bd8057aa826783cee060634e618d92d7cfecd0aeb390630e69d05c1053677878c714d0203010001\n",
      "-----\n",
      "value: 5.0\n",
      "-----\n",
      "time: 2021-11-29 11:50:07.961986\n",
      "-----\n",
      "--------------\n",
      "=====================================\n"
     ]
    }
   ],
   "source": [
    "dump_blockchain(MBCoins)"
   ]
  },
  {
   "cell_type": "code",
   "execution_count": null,
   "id": "df1b873f-b397-4cef-93a9-5d2940877f81",
   "metadata": {},
   "outputs": [],
   "source": []
  }
 ],
 "metadata": {
  "kernelspec": {
   "display_name": "mybc",
   "language": "python",
   "name": "mybc"
  },
  "language_info": {
   "codemirror_mode": {
    "name": "ipython",
    "version": 3
   },
   "file_extension": ".py",
   "mimetype": "text/x-python",
   "name": "python",
   "nbconvert_exporter": "python",
   "pygments_lexer": "ipython3",
   "version": "3.9.7"
  }
 },
 "nbformat": 4,
 "nbformat_minor": 5
}
